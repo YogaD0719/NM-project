{
  "cells": [
    {
      "cell_type": "markdown",
      "metadata": {
        "id": "view-in-github",
        "colab_type": "text"
      },
      "source": [
        "<a href=\"https://colab.research.google.com/github/YogaD0719/NM-project/blob/main/Welcome_to_Colab.ipynb\" target=\"_parent\"><img src=\"https://colab.research.google.com/assets/colab-badge.svg\" alt=\"Open In Colab\"/></a>"
      ]
    },
    {
      "cell_type": "code",
      "source": [
        "import pandas as pd\n",
        "import matplotlib.pyplot as plt\n",
        "import seaborn as sns\n",
        "from sklearn.model_selection import train_test_split\n",
        "from sklearn.ensemble import RandomForestClassifier\n",
        "from sklearn.metrics import classification_report\n",
        "import folium\n",
        "\n",
        "# Load dataset\n",
        "df = pd.read_csv(\"/content/students_dataset.csv\")\n",
        "\n",
        "# Check available columns\n",
        "print(\"Dataset Columns:\", df.columns.tolist())\n",
        "\n",
        "# Basic data cleaning\n",
        "df = df.dropna()\n",
        "\n",
        "# Modify these based on actual column names from print above\n",
        "features = ['weather_condition', 'light_condition', 'road_surface', 'speed_limit']\n",
        "target = 'accident_severity'\n",
        "\n",
        "# Ensure the correct column names are used\n",
        "missing_cols = [col for col in features + [target] if col not in df.columns]\n",
        "if missing_cols:\n",
        "    print(f\"Missing columns in dataset: {missing_cols}\")\n",
        "else:\n",
        "    # Encode categorical variables\n",
        "    df_encoded = pd.get_dummies(df[features])\n",
        "    X = df_encoded\n",
        "    y = df[target]\n",
        "\n",
        "    # Train-test split\n",
        "    X_train, X_test, y_train, y_test = train_test_split(X, y, test_size=0.2, random_state=42)\n",
        "\n",
        "    # Model\n",
        "    model = RandomForestClassifier(n_estimators=100)\n",
        "    model.fit(X_train, y_train)\n",
        "\n",
        "    # Prediction and Evaluation\n",
        "    y_pred = model.predict(X_test)\n",
        "    print(\"Classification Report:\\n\", classification_report(y_test, y_pred))\n",
        "\n",
        "    # Visualization: Accident Severity Count\n",
        "    plt.figure(figsize=(6, 4))\n",
        "    sns.countplot(x='accident_severity', data=df)\n",
        "    plt.title(\"Accident Severity Distribution\")\n",
        "    plt.savefig('severity_distribution.png')\n",
        "    plt.show()\n",
        "\n",
        "    # Map Visualization\n",
        "    map = folium.Map(location=[11.0168, 76.9558], zoom_start=7)\n",
        "    for _, row in df.iterrows():\n",
        "        folium.Marker(\n",
        "            location=[row['latitude'], row['longitude']],\n",
        "            popup=f\"Severity: {row['accident_severity']}\"\n",
        "        ).add_to(map)\n",
        "\n",
        "    map.save('accident_map.html')"
      ],
      "metadata": {
        "id": "G49U1RyJlGWd",
        "outputId": "8243cf35-c0c1-4409-a098-4b0c7b642248",
        "colab": {
          "base_uri": "https://localhost:8080/"
        }
      },
      "execution_count": 18,
      "outputs": [
        {
          "output_type": "stream",
          "name": "stdout",
          "text": [
            "Dataset Columns: ['Name', 'Age', 'Marks', 'Attendance', 'Passed']\n",
            "Missing columns in dataset: ['weather_condition', 'light_condition', 'road_surface', 'speed_limit', 'accident_severity']\n"
          ]
        }
      ]
    }
  ],
  "metadata": {
    "colab": {
      "name": "Welcome to Colab",
      "provenance": [],
      "include_colab_link": true
    },
    "kernelspec": {
      "display_name": "Python 3",
      "name": "python3"
    }
  },
  "nbformat": 4,
  "nbformat_minor": 0
}